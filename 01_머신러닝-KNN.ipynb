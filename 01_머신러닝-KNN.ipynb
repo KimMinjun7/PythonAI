{
 "cells": [
  {
   "cell_type": "markdown",
   "metadata": {},
   "source": [
    "#### AI\n",
    "    - 머신러닝, 컴퓨터 비전, 자연어 처리, 로봇 공학 등 그와 관련된 모든 주제를 포괄하는 개념\n",
    "    \n",
    "#### Machine Learning\n",
    "    - 더 많은 데이터 축적\n",
    "#### Deep Learning\n",
    "    - 신경망(Nenral Network)을 부르는 다른 이름\n",
    "    - 여러 개의 히든 레이어를 통해 깊게 학습한다고 해서 붙여진 이름\n",
    "   "
   ]
  },
  {
   "cell_type": "markdown",
   "metadata": {},
   "source": [
    "---\n",
    "#### Machine Learning과 Data Mining\n",
    "    - 머신러닝은 훈련 데이터를 통해 학습된 알려진 속성을 기반으로 한 예측에 중점\n",
    "    - 데이터 마이닝은 데이터의 미처 몰랐던 속성을 발견하는 것에 집중 (이는 데이터베이스의 지식 발견 부분의 분석 절차에 해당한다)\n",
    "    - 이들은 방법적으로 중복되는 부분이 있다. 데이터마이닝에서는 머신러닝은 필수가 아니지만 머신러닝에서는 데이터마이닝이 필수라는 부분이 필수라는 부분이 다르다."
   ]
  },
  {
   "cell_type": "markdown",
   "metadata": {},
   "source": [
    "---\n",
    "### 머신러닝의 종류\n",
    "\n",
    "#### 1. 지도학습(교사학습)\n",
    "    -회귀(Regrssion)\n",
    "        + 선형회귀\n",
    "        \n",
    "    -분류(Classfication)\n",
    "        + 로지스틱 선형 회귀\n",
    "        + KNN\n",
    "        + Decision Tree\n",
    "        + Random Forest\n",
    "        + SVM\n",
    "        + Naive Bayes\n",
    "        + Neural Network\n",
    "  \n",
    "\n",
    "#### 2. 비지도 학습\n",
    "    - 군집(Clustering)    \n",
    "        + K-MEANS\n",
    "        + DBSCAN\n",
    "        \n",
    "    - 차원 축소    \n",
    "        + PCA\n",
    "\n",
    "#### 3. 강화학습\n",
    "    - 완전한 답을 제공하지 않는다.\n",
    "    - 보상 시스템\n",
    "    "
   ]
  },
  {
   "cell_type": "code",
   "execution_count": 7,
   "metadata": {},
   "outputs": [],
   "source": [
    "import numpy as np # 데이터분석용 패키지\n",
    "import pandas as pd # 데이터분석용 패키지\n",
    "import matplotlib as mpl # 데이터분석용 패키지\n",
    "import matplotlib.pyplot as plt\n",
    "import seaborn as sns\n",
    "\n",
    "import matplotlib.font_manager as fm\n",
    "font_name = fm.FontProperties(fname=\"C:/Windows/Fonts/malgun.ttf\").get_name()\n",
    "plt.rc('font', family=font_name)\n",
    "\n",
    "mpl.rcParams[\"axes.unicode_minus\"] = False\n",
    "\n",
    "from sklearn.model_selection import train_test_split"
   ]
  },
  {
   "cell_type": "markdown",
   "metadata": {},
   "source": [
    "#### 머신러닝 전용 패키기\n",
    "sklearn(사이킷 런)"
   ]
  },
  {
   "cell_type": "code",
   "execution_count": 63,
   "metadata": {},
   "outputs": [],
   "source": [
    "# ! pip install mglearn #(책에서 제공하는 공부용 패키지)\n",
    "import mglearn"
   ]
  },
  {
   "cell_type": "markdown",
   "metadata": {},
   "source": [
    "### 샘플소개"
   ]
  },
  {
   "cell_type": "code",
   "execution_count": 12,
   "metadata": {},
   "outputs": [
    {
     "name": "stderr",
     "output_type": "stream",
     "text": [
      "C:\\Users\\user\\anaconda3\\lib\\site-packages\\sklearn\\utils\\deprecation.py:86: FutureWarning: Function make_blobs is deprecated; Please import make_blobs directly from scikit-learn\n",
      "  warnings.warn(msg, category=FutureWarning)\n"
     ]
    },
    {
     "data": {
      "text/plain": [
       "Text(0, 0.5, '두번째 특성')"
      ]
     },
     "execution_count": 12,
     "metadata": {},
     "output_type": "execute_result"
    },
    {
     "data": {
      "image/png": "[encoded data removed]",
      "text/plain": [
       "<Figure size 432x288 with 1 Axes>"
      ]
     },
     "metadata": {
      "needs_background": "light"
     },
     "output_type": "display_data"
    }
   ],
   "source": [
    "# 이진 분류 데이터셋\n",
    "X, y = mglearn.datasets.make_forge()\n",
    "X\n",
    "y\n",
    "\n",
    "mglearn.discrete_scatter(X[:,0], X[:,1],y)\n",
    "plt.legend([\"클래스 0\", \"클래스 1\"],loc=4) # 범례\n",
    "plt.xlabel(\"첫번째 특성\") # x라벨\n",
    "plt.ylabel(\"두번째 특성\") # y라벨"
   ]
  },
  {
   "cell_type": "code",
   "execution_count": 18,
   "metadata": {},
   "outputs": [
    {
     "data": {
      "text/plain": [
       "(-3.0, 3.0)"
      ]
     },
     "execution_count": 18,
     "metadata": {},
     "output_type": "execute_result"
    },
    {
     "data": {
      "image/png": "[encoded data removed]",
      "text/plain": [
       "<Figure size 432x288 with 1 Axes>"
      ]
     },
     "metadata": {
      "needs_background": "light"
     },
     "output_type": "display_data"
    }
   ],
   "source": [
    "# 회귀 분석용 샘플\n",
    "X, y= mglearn.datasets.make_wave(n_samples=40)\n",
    "plt.plot(X,y,\"o\")\n",
    "plt.xlabel(\"특성\")\n",
    "plt.ylabel(\"타겟\")\n",
    "plt.ylim(-3,3)"
   ]
  },
  {
   "cell_type": "code",
   "execution_count": 27,
   "metadata": {},
   "outputs": [
    {
     "name": "stdout",
     "output_type": "stream",
     "text": [
      "dict_keys(['data', 'target', 'frame', 'target_names', 'DESCR', 'feature_names', 'filename'])\n"
     ]
    },
    {
     "data": {
      "text/plain": [
       "(569, 30)"
      ]
     },
     "execution_count": 27,
     "metadata": {},
     "output_type": "execute_result"
    }
   ],
   "source": [
    "from sklearn.datasets import load_breast_cancer #의학용 샘플\n",
    "\n",
    "cancer = load_breast_cancer()\n",
    "print(cancer.keys())\n",
    "cancer.data\n",
    "cancer.target\n",
    "# print(cancer.DESCR)\n",
    "type(cancer)\n",
    "cancer.data.shape"
   ]
  },
  {
   "cell_type": "code",
   "execution_count": 28,
   "metadata": {},
   "outputs": [
    {
     "data": {
      "text/plain": [
       "(506, 13)"
      ]
     },
     "execution_count": 28,
     "metadata": {},
     "output_type": "execute_result"
    }
   ],
   "source": [
    "from sklearn.datasets import load_boston\n",
    "\n",
    "boston = load_boston()\n",
    "boston.data.shape"
   ]
  },
  {
   "cell_type": "markdown",
   "metadata": {},
   "source": [
    "---\n",
    "## 과대 적합\n",
    "    - 훈련 데이터셋의 각 샘플에 너무 가깝게 맞춰져 있어서 복잡한 모델을 만드는 것\n",
    "        - 해결법 : 1. 파라미터 수가 적은 모델을 선택하거나, 훈련 데이터에 있는 특성 수를 줄이거나. 모델에 제약을 가하여 단순화\n",
    "                   2. 훈련데이터를 더 많이 모은다.\n",
    "                   3. 훈련 데이터의 잡음을 줄인다.\n",
    "           \n",
    "## 과소 적합\n",
    "    - 너무 간단한 모델이 선택되는 것\n",
    "    \n",
    "## 일반화\n",
    "    - 처음 보는 데이터에 대해서 정확하게 예측할 수 있는 것"
   ]
  },
  {
   "cell_type": "markdown",
   "metadata": {},
   "source": [
    "---\n",
    "## KNN (K-Nearest Neighbors)\n",
    "\n",
    "#### 1) 특징\n",
    "    - 이해하기 쉽고 직관적인 모델\n",
    "    - 더 복잡한 알고리즘을 적용하기 전에 시도해 볼 수 있는 알고리즘\n",
    "    - 훈련셋이 너무 크면 예측이 느려진다.\n",
    "    \n",
    "#### 2) 파라미터\n",
    "    - 이웃의 갯수(k)\n",
    "    - 데이터 사이의 거리를 재는 방법 : L2 norm"
   ]
  },
  {
   "cell_type": "code",
   "execution_count": 31,
   "metadata": {},
   "outputs": [
    {
     "name": "stderr",
     "output_type": "stream",
     "text": [
      "C:\\Users\\user\\anaconda3\\lib\\site-packages\\sklearn\\utils\\deprecation.py:86: FutureWarning: Function make_blobs is deprecated; Please import make_blobs directly from scikit-learn\n",
      "  warnings.warn(msg, category=FutureWarning)\n"
     ]
    },
    {
     "data": {
      "image/png": "[encoded data removed]",
      "text/plain": [
       "<Figure size 432x288 with 1 Axes>"
      ]
     },
     "metadata": {
      "needs_background": "light"
     },
     "output_type": "display_data"
    }
   ],
   "source": [
    "mglearn.plots.plot_knn_classification(n_neighbors=3)"
   ]
  },
  {
   "cell_type": "markdown",
   "metadata": {},
   "source": [
    "---\n",
    "#### L1 norm, L2 norm\n",
    "\n",
    "- L1 norm\n",
    "    - 단순한 거리의 절대값의 합\n",
    "    - 맨하탄 거리\n",
    "    \n",
    "- L2 norm\n",
    "    - 거리의 절대값의 합에 루트 적용\n",
    "    - 피타고라스의 정리, 유클리드 거리"
   ]
  },
  {
   "cell_type": "code",
   "execution_count": 47,
   "metadata": {},
   "outputs": [
    {
     "data": {
      "text/html": [
       "<div>\n",
       "<style scoped>\n",
       "    .dataframe tbody tr th:only-of-type {\n",
       "        vertical-align: middle;\n",
       "    }\n",
       "\n",
       "    .dataframe tbody tr th {\n",
       "        vertical-align: top;\n",
       "    }\n",
       "\n",
       "    .dataframe thead th {\n",
       "        text-align: right;\n",
       "    }\n",
       "</style>\n",
       "<table border=\"1\" class=\"dataframe\">\n",
       "  <thead>\n",
       "    <tr style=\"text-align: right;\">\n",
       "      <th></th>\n",
       "      <th>x</th>\n",
       "      <th>y</th>\n",
       "    </tr>\n",
       "  </thead>\n",
       "  <tbody>\n",
       "    <tr>\n",
       "      <th>0</th>\n",
       "      <td>1</td>\n",
       "      <td>6</td>\n",
       "    </tr>\n",
       "    <tr>\n",
       "      <th>1</th>\n",
       "      <td>6</td>\n",
       "      <td>4</td>\n",
       "    </tr>\n",
       "    <tr>\n",
       "      <th>2</th>\n",
       "      <td>1</td>\n",
       "      <td>6</td>\n",
       "    </tr>\n",
       "  </tbody>\n",
       "</table>\n",
       "</div>"
      ],
      "text/plain": [
       "   x  y\n",
       "0  1  6\n",
       "1  6  4\n",
       "2  1  6"
      ]
     },
     "execution_count": 47,
     "metadata": {},
     "output_type": "execute_result"
    }
   ],
   "source": [
    "df = pd.DataFrame(np.random.randint(low=1 , high=10, size=(3,2)))\n",
    "df.columns=[\"x\",\"y\"]\n",
    "df"
   ]
  },
  {
   "cell_type": "code",
   "execution_count": 48,
   "metadata": {
    "scrolled": false
   },
   "outputs": [
    {
     "data": {
      "text/plain": [
       "<seaborn.axisgrid.FacetGrid at 0x28183230400>"
      ]
     },
     "execution_count": 48,
     "metadata": {},
     "output_type": "execute_result"
    },
    {
     "data": {
      "image/png": "[encoded data removed]",
      "text/plain": [
       "<Figure size 360x360 with 1 Axes>"
      ]
     },
     "metadata": {
      "needs_background": "light"
     },
     "output_type": "display_data"
    }
   ],
   "source": [
    "sns.lmplot(\"x\",\"y\",data=df, fit_reg=False, scatter_kws={\"s\":200})"
   ]
  },
  {
   "cell_type": "code",
   "execution_count": 50,
   "metadata": {},
   "outputs": [
    {
     "data": {
      "text/plain": [
       "array([6.08276253, 7.21110255, 6.08276253])"
      ]
     },
     "execution_count": 50,
     "metadata": {},
     "output_type": "execute_result"
    }
   ],
   "source": [
    "from numpy import linalg\n",
    "\n",
    "dt_point = df.values\n",
    "dt_point\n",
    "\n",
    "#(0,0)으로 부터 어디가 제일 가까울까?\n",
    "linalg.norm(dt_point, ord=2, axis=1)"
   ]
  },
  {
   "cell_type": "code",
   "execution_count": 51,
   "metadata": {},
   "outputs": [
    {
     "data": {
      "text/plain": [
       "array([ 7., 10.,  7.])"
      ]
     },
     "execution_count": 51,
     "metadata": {},
     "output_type": "execute_result"
    }
   ],
   "source": [
    "# L1 norm으로 계산\n",
    "# 3명이 주사위를 3번 던진 후 걸음 수를 측정한다.\n",
    "df = pd.DataFrame(np.random.randint(low=-3, high=3, size=(3,3)))\n",
    "df.columns = [\"move_1\", \"move_2\",\"move_3\"]\n",
    "df\n",
    "\n",
    "# 누가 가장 많이걸었을까?\n",
    "walk = df.values\n",
    "linalg.norm(dt_point, ord=1, axis=1)"
   ]
  },
  {
   "cell_type": "markdown",
   "metadata": {},
   "source": [
    "## KNN 구현"
   ]
  },
  {
   "cell_type": "code",
   "execution_count": 53,
   "metadata": {},
   "outputs": [
    {
     "name": "stdout",
     "output_type": "stream",
     "text": [
      "(19, 2) (7, 2) (19,) (7,)\n"
     ]
    },
    {
     "name": "stderr",
     "output_type": "stream",
     "text": [
      "C:\\Users\\user\\anaconda3\\lib\\site-packages\\sklearn\\utils\\deprecation.py:86: FutureWarning: Function make_blobs is deprecated; Please import make_blobs directly from scikit-learn\n",
      "  warnings.warn(msg, category=FutureWarning)\n"
     ]
    }
   ],
   "source": [
    "X, y = mglearn.datasets.make_forge()\n",
    "X_train, X_test, y_train, y_test = train_test_split(X,y,random_state=0)\n",
    "print(X_train.shape, X_test.shape, y_train.shape, y_test.shape)\n"
   ]
  },
  {
   "cell_type": "code",
   "execution_count": 4,
   "metadata": {},
   "outputs": [
    {
     "ename": "NameError",
     "evalue": "name 'X_train' is not defined",
     "output_type": "error",
     "traceback": [
      "\u001b[1;31m---------------------------------------------------------------------------\u001b[0m",
      "\u001b[1;31mNameError\u001b[0m                                 Traceback (most recent call last)",
      "\u001b[1;32m<ipython-input-4-537f72fd46ff>\u001b[0m in \u001b[0;36m<module>\u001b[1;34m\u001b[0m\n\u001b[0;32m      3\u001b[0m \u001b[0mclf\u001b[0m \u001b[1;33m=\u001b[0m \u001b[0mKNeighborsClassifier\u001b[0m\u001b[1;33m(\u001b[0m\u001b[0mn_neighbors\u001b[0m\u001b[1;33m=\u001b[0m\u001b[1;36m3\u001b[0m\u001b[1;33m)\u001b[0m\u001b[1;33m\u001b[0m\u001b[1;33m\u001b[0m\u001b[0m\n\u001b[0;32m      4\u001b[0m \u001b[1;33m\u001b[0m\u001b[0m\n\u001b[1;32m----> 5\u001b[1;33m \u001b[0mclf\u001b[0m\u001b[1;33m.\u001b[0m\u001b[0mfit\u001b[0m\u001b[1;33m(\u001b[0m\u001b[0mX_train\u001b[0m\u001b[1;33m,\u001b[0m \u001b[0my_train\u001b[0m\u001b[1;33m)\u001b[0m \u001b[1;31m# 훈련\u001b[0m\u001b[1;33m\u001b[0m\u001b[1;33m\u001b[0m\u001b[0m\n\u001b[0m",
      "\u001b[1;31mNameError\u001b[0m: name 'X_train' is not defined"
     ]
    }
   ],
   "source": [
    "from sklearn.neighbors import KNeighborsClassifier\n",
    "\n",
    "clf = KNeighborsClassifier(n_neighbors=3)\n",
    "\n",
    "clf.fit(X_train, y_train) # 훈련"
   ]
  },
  {
   "cell_type": "code",
   "execution_count": 56,
   "metadata": {},
   "outputs": [],
   "source": [
    "?KNeighborsClassifier"
   ]
  },
  {
   "cell_type": "code",
   "execution_count": 59,
   "metadata": {},
   "outputs": [
    {
     "data": {
      "text/plain": [
       "array([1, 0, 1, 0, 1, 0, 0])"
      ]
     },
     "execution_count": 59,
     "metadata": {},
     "output_type": "execute_result"
    }
   ],
   "source": [
    "clf.predict(X_test)"
   ]
  },
  {
   "cell_type": "code",
   "execution_count": 60,
   "metadata": {},
   "outputs": [
    {
     "data": {
      "text/plain": [
       "array([1, 0, 1, 0, 1, 1, 0])"
      ]
     },
     "execution_count": 60,
     "metadata": {},
     "output_type": "execute_result"
    }
   ],
   "source": [
    "y_test"
   ]
  },
  {
   "cell_type": "code",
   "execution_count": 61,
   "metadata": {},
   "outputs": [
    {
     "data": {
      "text/plain": [
       "0.8571428571428571"
      ]
     },
     "execution_count": 61,
     "metadata": {},
     "output_type": "execute_result"
    }
   ],
   "source": [
    "clf.score(X_test, y_test)"
   ]
  },
  {
   "cell_type": "markdown",
   "metadata": {},
   "source": [
    "## KNN 분석"
   ]
  },
  {
   "cell_type": "code",
   "execution_count": 72,
   "metadata": {},
   "outputs": [
    {
     "data": {
      "image/png": "[encoded data removed]",
      "text/plain": [
       "<Figure size 720x216 with 3 Axes>"
      ]
     },
     "metadata": {},
     "output_type": "display_data"
    }
   ],
   "source": [
    "fig, axes = plt.subplots(1,3, figsize=(10,3)) # 하나의 행에 세개의 그림을 그리기\n",
    "for n_neigh, ax in zip([1,3,9], axes):\n",
    "    #print(n_neigh)\n",
    "    #print(ax)\n",
    "    clf = KNeighborsClassifier(n_neighbors=n_neigh).fit(X,y)\n",
    "    \n",
    "    mglearn.discrete_scatter(X[:,0],X[:,1],y,ax=ax)\n",
    "    mglearn.plots.plot_2d_separator(clf, X, fill=True, ax=ax)\n",
    "    \n",
    "    ax.set_title(\"{} 이웃\".format(n_neigh))"
   ]
  },
  {
   "cell_type": "code",
   "execution_count": 76,
   "metadata": {},
   "outputs": [
    {
     "data": {
      "image/png": "[encoded data removed]",
      "text/plain": [
       "<Figure size 720x216 with 3 Axes>"
      ]
     },
     "metadata": {},
     "output_type": "display_data"
    }
   ],
   "source": [
    "fig, axes = plt.subplots(1,3, figsize=(10,3)) # 하나의 행에 세개의 그림을 그리기\n",
    "for n_neigh, ax in zip([1,3,9], axes):\n",
    "    #print(n_neigh)\n",
    "    #print(ax)\n",
    "    clf = KNeighborsClassifier(n_neighbors=n_neigh).fit(X,y)\n",
    "    \n",
    "    mglearn.discrete_scatter(X[:,0],X[:,1],y,ax=ax)\n",
    "    #그래프 경계선 추가\n",
    "    mglearn.plots.plot_2d_separator(clf, X, fill=True, ax=ax)\n",
    "   \n",
    "    ax.set_title(\"{} 이웃\".format(n_neigh))"
   ]
  },
  {
   "cell_type": "code",
   "execution_count": 85,
   "metadata": {},
   "outputs": [
    {
     "name": "stdout",
     "output_type": "stream",
     "text": [
      "(426, 30) (143, 30)\n"
     ]
    }
   ],
   "source": [
    "from sklearn.datasets import load_breast_cancer\n",
    "\n",
    "cancer = load_breast_cancer()\n",
    "X_train, X_test, y_train, y_test = train_test_split(cancer.data, cancer.target, random_state=0) # random_state값이 달라지면 다 달라진다.\n",
    "\n",
    "print(X_train.shape, X_test.shape)"
   ]
  },
  {
   "cell_type": "code",
   "execution_count": 86,
   "metadata": {},
   "outputs": [],
   "source": [
    "#clf = KNeighborsClassifier(n_neighbors=1).fit(X_train,y_train)\n",
    "clf = KNeighborsClassifier(n_neighbors=5).fit(X_train,y_train) # 훈련시키기"
   ]
  },
  {
   "cell_type": "code",
   "execution_count": 87,
   "metadata": {},
   "outputs": [
    {
     "data": {
      "text/plain": [
       "0.9413145539906104"
      ]
     },
     "execution_count": 87,
     "metadata": {},
     "output_type": "execute_result"
    }
   ],
   "source": [
    "clf.score(X_train, y_train)"
   ]
  },
  {
   "cell_type": "code",
   "execution_count": 88,
   "metadata": {},
   "outputs": [
    {
     "data": {
      "text/plain": [
       "0.9370629370629371"
      ]
     },
     "execution_count": 88,
     "metadata": {},
     "output_type": "execute_result"
    }
   ],
   "source": [
    "clf.score(X_test, y_test)"
   ]
  },
  {
   "cell_type": "code",
   "execution_count": 89,
   "metadata": {},
   "outputs": [],
   "source": [
    "train_acc = []\n",
    "test_acc = []\n",
    "\n",
    "for n_neigh in range(1,11):\n",
    "    clf = KNeighborsClassifier(n_neighbors=n_neigh).fit(X_train,y_train)\n",
    "    \n",
    "    train_acc.append(clf.score(X_train, y_train))\n",
    "    test_acc.append(clf.score(X_test, y_test))"
   ]
  },
  {
   "cell_type": "code",
   "execution_count": 92,
   "metadata": {},
   "outputs": [
    {
     "data": {
      "text/plain": [
       "<matplotlib.legend.Legend at 0x28184811970>"
      ]
     },
     "execution_count": 92,
     "metadata": {},
     "output_type": "execute_result"
    },
    {
     "data": {
      "image/png": "[encoded data removed]",
      "text/plain": [
       "<Figure size 432x288 with 1 Axes>"
      ]
     },
     "metadata": {
      "needs_background": "light"
     },
     "output_type": "display_data"
    }
   ],
   "source": [
    "plt.plot(range(1,11), train_acc, label=\"훈련 정확도\")\n",
    "plt.plot(range(1,11), test_acc, label=\"테스트 정확도\")\n",
    "\n",
    "plt.xlabel(\"이웃의 갯수\")\n",
    "plt.ylabel(\"정확도\")\n",
    "plt.legend()\n",
    "\n",
    "# 7개가 적정한 이웃의 갯수"
   ]
  },
  {
   "cell_type": "code",
   "execution_count": 93,
   "metadata": {},
   "outputs": [
    {
     "data": {
      "text/plain": [
       "0.9440559440559441"
      ]
     },
     "execution_count": 93,
     "metadata": {},
     "output_type": "execute_result"
    }
   ],
   "source": [
    "test_acc[6]"
   ]
  },
  {
   "cell_type": "markdown",
   "metadata": {},
   "source": [
    "### 회귀분석을 위한 KNN"
   ]
  },
  {
   "cell_type": "code",
   "execution_count": 94,
   "metadata": {},
   "outputs": [
    {
     "data": {
      "image/png": "[encoded data removed]",
      "text/plain": [
       "<Figure size 720x432 with 1 Axes>"
      ]
     },
     "metadata": {
      "needs_background": "light"
     },
     "output_type": "display_data"
    }
   ],
   "source": [
    "mglearn.plots.plot_knn_regression(n_neighbors=3)"
   ]
  },
  {
   "cell_type": "code",
   "execution_count": null,
   "metadata": {},
   "outputs": [],
   "source": [
    "X,y = mglearn.datasets.make_wave(n_samples=40)\n",
    "X_train, X_test, y_train, y_test = train_test_split(X, y, random_state=0, test_size=0.25)\n",
    "\n",
    "print(X_train.shape, X_test.shape)\n"
   ]
  },
  {
   "cell_type": "code",
   "execution_count": null,
   "metadata": {},
   "outputs": [],
   "source": [
    "?train_test_split"
   ]
  },
  {
   "cell_type": "code",
   "execution_count": 98,
   "metadata": {},
   "outputs": [
    {
     "data": {
      "text/plain": [
       "KNeighborsRegressor(n_neighbors=3)"
      ]
     },
     "execution_count": 98,
     "metadata": {},
     "output_type": "execute_result"
    }
   ],
   "source": [
    "from sklearn.neighbors import KNeighborsRegressor\n",
    "reg = KNeighborsRegressor(n_neighbors=3)\n",
    "reg.fit(X_train, y_train)"
   ]
  },
  {
   "cell_type": "code",
   "execution_count": 99,
   "metadata": {},
   "outputs": [
    {
     "name": "stdout",
     "output_type": "stream",
     "text": [
      "설명 계수(R^2) :  0.8344172446249605\n"
     ]
    }
   ],
   "source": [
    "print(\"설명 계수(R^2) : \", reg.score(X_test, y_test))"
   ]
  },
  {
   "cell_type": "code",
   "execution_count": 100,
   "metadata": {},
   "outputs": [
    {
     "data": {
      "text/plain": [
       "array([[-1.24713211],\n",
       "       [ 0.67111737],\n",
       "       [ 1.71105577],\n",
       "       [-2.06388816],\n",
       "       [-2.87649303],\n",
       "       [-1.89957294],\n",
       "       [ 0.55448741],\n",
       "       [ 2.81945911],\n",
       "       [-0.40832989],\n",
       "       [-2.72129752]])"
      ]
     },
     "execution_count": 100,
     "metadata": {},
     "output_type": "execute_result"
    }
   ],
   "source": [
    "X_test"
   ]
  },
  {
   "cell_type": "code",
   "execution_count": 104,
   "metadata": {},
   "outputs": [
    {
     "data": {
      "text/plain": [
       "array([-0.05396539,  0.35686046,  1.13671923, -1.89415682, -1.13881398,\n",
       "       -1.63113382,  0.35686046,  0.91241374, -0.44680446, -1.13881398])"
      ]
     },
     "execution_count": 104,
     "metadata": {},
     "output_type": "execute_result"
    }
   ],
   "source": [
    "reg.predict(X_test)"
   ]
  },
  {
   "cell_type": "code",
   "execution_count": 103,
   "metadata": {},
   "outputs": [
    {
     "data": {
      "text/plain": [
       "array([ 0.37299129,  0.21778193,  0.96695428, -1.38773632, -1.05979555,\n",
       "       -0.90496988,  0.43655826,  0.7789638 , -0.54114599, -0.95652133])"
      ]
     },
     "execution_count": 103,
     "metadata": {},
     "output_type": "execute_result"
    }
   ],
   "source": [
    "y_test"
   ]
  },
  {
   "cell_type": "markdown",
   "metadata": {},
   "source": [
    "## KNeighborsRegressor 분석"
   ]
  },
  {
   "cell_type": "code",
   "execution_count": 110,
   "metadata": {},
   "outputs": [
    {
     "data": {
      "image/png": "[encoded data removed]",
      "text/plain": [
       "<Figure size 1080x288 with 3 Axes>"
      ]
     },
     "metadata": {
      "needs_background": "light"
     },
     "output_type": "display_data"
    }
   ],
   "source": [
    "fig, axes = plt.subplots(1,3, figsize=(15,4))\n",
    "line = np.linspace(-3,3,1000).reshape(-1,1)\n",
    "\n",
    "for n_neigh, ax in zip([1,3,9], axes):\n",
    "    reg = KNeighborsRegressor(n_neighbors=n_neigh).fit(X_train, y_train)\n",
    "    \n",
    "    ax.plot(line, reg.predict(line))\n",
    "    ax.plot(X_train, y_train, \"^\",c=mglearn.cm2(0), markersize=8) # 훈련용 데이터에 표시, 색깔, 크기 - 현재 너무 잘 맞는데 훈련용에\n",
    "    ax.plot(X_test, y_test, \"v\",c=mglearn.cm2(1), markersize=8) # 데스트용 데이터에 표시, 색깔, 크기 \n",
    "    \n",
    "    ax.set_title(\"{0} 이웃의 훈련 스코어 : {1:.2f}, 데스트 스코어 : {2:.2f}\".format(n_neigh, reg.score(X_train, y_train), reg.score(X_test, y_test)))"
   ]
  },
  {
   "cell_type": "markdown",
   "metadata": {},
   "source": [
    "## iris를 이용한 사례"
   ]
  },
  {
   "cell_type": "code",
   "execution_count": 8,
   "metadata": {},
   "outputs": [
    {
     "name": "stdout",
     "output_type": "stream",
     "text": [
      "dict_keys(['data', 'target', 'frame', 'target_names', 'DESCR', 'feature_names', 'filename'])\n",
      "['setosa' 'versicolor' 'virginica']\n",
      "['sepal length (cm)', 'sepal width (cm)', 'petal length (cm)', 'petal width (cm)']\n"
     ]
    }
   ],
   "source": [
    "from sklearn.datasets import load_iris\n",
    "iris = load_iris()\n",
    "print(iris.keys())\n",
    "print(iris.target_names)\n",
    "print(iris.feature_names)"
   ]
  },
  {
   "cell_type": "markdown",
   "metadata": {},
   "source": [
    "### 문제1"
   ]
  },
  {
   "cell_type": "markdown",
   "metadata": {},
   "source": [
    "### 내 풀이"
   ]
  },
  {
   "cell_type": "code",
   "execution_count": 9,
   "metadata": {},
   "outputs": [],
   "source": [
    "# 꽃받침(Sepal)의 길이가 5cm, 폭은 2.9cm, 꽃잎(Petal)의 길이 1cm, 폭은 0.2cm\n",
    "\n",
    "s_height = 5.0\n",
    "s_width = 2.0\n",
    "p_height = 1.0\n",
    "p_width = 0.2"
   ]
  },
  {
   "cell_type": "code",
   "execution_count": 10,
   "metadata": {},
   "outputs": [
    {
     "name": "stdout",
     "output_type": "stream",
     "text": [
      "(112, 4) (38, 4)\n"
     ]
    }
   ],
   "source": [
    "# 학습, 테스트 데이터로 분리\n",
    "X_train, X_test, y_train, y_test = train_test_split(iris.data, iris.target, random_state=0) # random_state값이 달라지면 다 달라진다.\n",
    "print(X_train.shape, X_test.shape)"
   ]
  },
  {
   "cell_type": "code",
   "execution_count": 11,
   "metadata": {},
   "outputs": [
    {
     "data": {
      "text/plain": [
       "0.9736842105263158"
      ]
     },
     "execution_count": 11,
     "metadata": {},
     "output_type": "execute_result"
    }
   ],
   "source": [
    "# 이웃의 갯수 5개로 훈련시키기\n",
    "clf = KNeighborsClassifier(n_neighbors=5).fit(X_train,y_train) \n",
    "clf.score(X_test, y_test)"
   ]
  },
  {
   "cell_type": "code",
   "execution_count": 12,
   "metadata": {},
   "outputs": [
    {
     "data": {
      "text/plain": [
       "<matplotlib.legend.Legend at 0x21529a83c70>"
      ]
     },
     "execution_count": 12,
     "metadata": {},
     "output_type": "execute_result"
    },
    {
     "data": {
      "image/png": "[encoded data removed]",
      "text/plain": [
       "<Figure size 432x288 with 1 Axes>"
      ]
     },
     "metadata": {
      "needs_background": "light"
     },
     "output_type": "display_data"
    }
   ],
   "source": [
    "# 적절한 이웃의 갯수 정하기\n",
    "train_acc = []\n",
    "test_acc = []\n",
    "\n",
    "for n_neigh in range(1,11):\n",
    "    clf = KNeighborsClassifier(n_neighbors=n_neigh).fit(X_train,y_train)\n",
    "    \n",
    "    train_acc.append(clf.score(X_train, y_train))\n",
    "    test_acc.append(clf.score(X_test, y_test))\n",
    "\n",
    "plt.plot(range(1,11), train_acc, label=\"훈련 정확도\")\n",
    "plt.plot(range(1,11), test_acc, label=\"테스트 정확도\")\n",
    "\n",
    "plt.xlabel(\"이웃의 갯수\")\n",
    "plt.ylabel(\"정확도\")\n",
    "plt.legend()\n",
    "\n",
    "# 이웃의 갯수 4개가 적절"
   ]
  },
  {
   "cell_type": "code",
   "execution_count": 123,
   "metadata": {},
   "outputs": [],
   "source": [
    "from sklearn.neighbors import KNeighborsClassifier\n",
    "clf = KNeighborsClassifier(n_neighbors=4)"
   ]
  },
  {
   "cell_type": "code",
   "execution_count": 124,
   "metadata": {},
   "outputs": [
    {
     "data": {
      "text/plain": [
       "KNeighborsClassifier(n_neighbors=4)"
      ]
     },
     "execution_count": 124,
     "metadata": {},
     "output_type": "execute_result"
    }
   ],
   "source": [
    "clf.fit(X_train, y_train)"
   ]
  },
  {
   "cell_type": "code",
   "execution_count": 126,
   "metadata": {},
   "outputs": [
    {
     "name": "stdout",
     "output_type": "stream",
     "text": [
      "예측 한 붓꽃 : ['setosa']\n"
     ]
    }
   ],
   "source": [
    "import numpy as np\n",
    "x_my_iris = np.array([[5, 2, 1, 0.2]])\n",
    "print(\"예측 한 붓꽃 : {}\".format(\n",
    "    iris['target_names'][(clf.predict(x_my_iris))]))"
   ]
  },
  {
   "cell_type": "code",
   "execution_count": 128,
   "metadata": {},
   "outputs": [
    {
     "name": "stdout",
     "output_type": "stream",
     "text": [
      "테스트 세트에 대한 정확도 : 0.9736842105263158\n"
     ]
    }
   ],
   "source": [
    "print(\"테스트 세트에 대한 정확도 : {}\".format(clf.score(X_test, y_test)))"
   ]
  },
  {
   "cell_type": "code",
   "execution_count": 14,
   "metadata": {},
   "outputs": [],
   "source": [
    "# 꽃받침(Sepal)의 길이가 5cm, 폭은 2.9cm, 꽃잎(Petal)의 길이 1cm, 폭은 0.2cm\n",
    "\n",
    "s_height = 5.0\n",
    "s_width = 2.9\n",
    "p_height = 1.0\n",
    "p_width = 0.2"
   ]
  },
  {
   "cell_type": "markdown",
   "metadata": {},
   "source": [
    "### 강사님이 푸신 방법"
   ]
  },
  {
   "cell_type": "code",
   "execution_count": 15,
   "metadata": {},
   "outputs": [
    {
     "name": "stdout",
     "output_type": "stream",
     "text": [
      "(112, 4) (38, 4)\n"
     ]
    }
   ],
   "source": [
    "# 학습, 테스트 데이터로 분리\n",
    "X_train, X_test, y_train, y_test = train_test_split(iris.data, iris.target, random_state=0) # random_state값이 달라지면 다 달라진다.\n",
    "print(X_train.shape, X_test.shape)"
   ]
  },
  {
   "cell_type": "code",
   "execution_count": 16,
   "metadata": {},
   "outputs": [
    {
     "ename": "NameError",
     "evalue": "name 'mglearn' is not defined",
     "output_type": "error",
     "traceback": [
      "\u001b[1;31m---------------------------------------------------------------------------\u001b[0m",
      "\u001b[1;31mNameError\u001b[0m                                 Traceback (most recent call last)",
      "\u001b[1;32m<ipython-input-16-d41f373a1870>\u001b[0m in \u001b[0;36m<module>\u001b[1;34m\u001b[0m\n\u001b[0;32m      3\u001b[0m \u001b[0miris_df\u001b[0m\u001b[1;33m\u001b[0m\u001b[1;33m\u001b[0m\u001b[0m\n\u001b[0;32m      4\u001b[0m \u001b[1;33m\u001b[0m\u001b[0m\n\u001b[1;32m----> 5\u001b[1;33m \u001b[0mpd\u001b[0m\u001b[1;33m.\u001b[0m\u001b[0mplotting\u001b[0m\u001b[1;33m.\u001b[0m\u001b[0mscatter_matrix\u001b[0m\u001b[1;33m(\u001b[0m\u001b[0miris_df\u001b[0m\u001b[1;33m,\u001b[0m \u001b[0mfigsize\u001b[0m\u001b[1;33m=\u001b[0m\u001b[1;33m(\u001b[0m\u001b[1;36m15\u001b[0m\u001b[1;33m,\u001b[0m\u001b[1;36m15\u001b[0m\u001b[1;33m)\u001b[0m\u001b[1;33m,\u001b[0m \u001b[0mmarker\u001b[0m\u001b[1;33m=\u001b[0m\u001b[1;34m'o'\u001b[0m\u001b[1;33m,\u001b[0m \u001b[0ms\u001b[0m\u001b[1;33m=\u001b[0m\u001b[1;36m60\u001b[0m\u001b[1;33m,\u001b[0m \u001b[0mcmap\u001b[0m\u001b[1;33m=\u001b[0m\u001b[0mmglearn\u001b[0m\u001b[1;33m.\u001b[0m\u001b[0mcm3\u001b[0m\u001b[1;33m,\u001b[0m \u001b[0mc\u001b[0m\u001b[1;33m=\u001b[0m\u001b[0my_train\u001b[0m\u001b[1;33m,\u001b[0m \u001b[0malpha\u001b[0m\u001b[1;33m=\u001b[0m\u001b[1;36m.8\u001b[0m\u001b[1;33m,\u001b[0m \u001b[0mhist_kwds\u001b[0m\u001b[1;33m=\u001b[0m\u001b[1;33m{\u001b[0m\u001b[1;34m\"bins\"\u001b[0m\u001b[1;33m:\u001b[0m\u001b[1;36m20\u001b[0m\u001b[1;33m}\u001b[0m\u001b[1;33m)\u001b[0m\u001b[1;33m\u001b[0m\u001b[1;33m\u001b[0m\u001b[0m\n\u001b[0m",
      "\u001b[1;31mNameError\u001b[0m: name 'mglearn' is not defined"
     ]
    }
   ],
   "source": [
    "# 산점도 행렬\n",
    "iris_df = pd.DataFrame(X_train, columns=iris.feature_names)\n",
    "iris_df\n",
    "\n",
    "pd.plotting.scatter_matrix(iris_df, figsize=(15,15), marker='o', s=60, cmap=mglearn.cm3, c=y_train, alpha=.8, hist_kwds={\"bins\":20})"
   ]
  },
  {
   "cell_type": "code",
   "execution_count": 17,
   "metadata": {},
   "outputs": [
    {
     "data": {
      "text/plain": [
       "KNeighborsClassifier(n_neighbors=3)"
      ]
     },
     "execution_count": 17,
     "metadata": {},
     "output_type": "execute_result"
    }
   ],
   "source": [
    "knn = KNeighborsClassifier(n_neighbors=3)\n",
    "knn.fit(X_train, y_train)"
   ]
  },
  {
   "cell_type": "code",
   "execution_count": 18,
   "metadata": {},
   "outputs": [
    {
     "name": "stdout",
     "output_type": "stream",
     "text": [
      "0.9736842105263158\n",
      "0.9736842105263158\n"
     ]
    }
   ],
   "source": [
    "print(knn.score(X_test,y_test))\n",
    "\n",
    "pred = knn.predict(X_test)\n",
    "print(np.mean(pred == y_test))"
   ]
  },
  {
   "cell_type": "code",
   "execution_count": 19,
   "metadata": {},
   "outputs": [
    {
     "name": "stdout",
     "output_type": "stream",
     "text": [
      "붓꽃의 품종은?  ['setosa']\n"
     ]
    }
   ],
   "source": [
    "X_new = np.array([[s_height, s_width,p_height, p_width]])\n",
    "pred = knn.predict(X_new)\n",
    "print(\"붓꽃의 품종은? \", iris.target_names[pred])"
   ]
  },
  {
   "cell_type": "markdown",
   "metadata": {},
   "source": [
    "### 영화 분류 프로그램 만들기"
   ]
  },
  {
   "cell_type": "code",
   "execution_count": 181,
   "metadata": {},
   "outputs": [],
   "source": [
    "import operator \n",
    "\n",
    "def createDataSet():\n",
    "    group = np.array([[1.0,2.0],[1.0,4.0],[4.0,1.0],[4.0,2.0]])\n",
    "    label = ['Action','Action','Romance','Romance']\n",
    "    return group, label\n",
    "\n",
    "def calcDistance(X_new, data):\n",
    "    # 데이터의 갯수\n",
    "    dataSize = len(data) # data.shape[0]\n",
    "    \n",
    "    # 입력데이터와 기존 데이터의 차이\n",
    "    diffMat = np.tile(X_new, (dataSize, 1)) - data\n",
    "    \n",
    "    # L2 norm\n",
    "    sqDiffMat = diffMat**2\n",
    "    sqDistance = sqDiffMat.sum(axis=1)\n",
    "    distance = sqDistance**0.5\n",
    "    \n",
    "    return distance.argsort()\n",
    "\n",
    "def findMajorityClass(target, k, sortedDistance):\n",
    "    classCount = {}\n",
    "    \n",
    "    for i in range(k):\n",
    "        voteLabel = target[sortedDistance[i]]\n",
    "        classCount[voteLabel] = classCount.get(voteLabel, 0) + 1\n",
    "        \n",
    "    return sorted(classCount.items(), key=operator.itemgetter(1), reverse=True)\n",
    "\n",
    "def classify(X_new, data, target, k):\n",
    "    sortedDistance = calcDistance(X_new, data)\n",
    "    sortedDistanceCount = findMajorityClass(target, k, sortedDistance)\n",
    "    \n",
    "    return sortedDistanceCount"
   ]
  },
  {
   "cell_type": "code",
   "execution_count": 182,
   "metadata": {},
   "outputs": [
    {
     "name": "stdout",
     "output_type": "stream",
     "text": [
      "결과는 Action 영화다.\n"
     ]
    }
   ],
   "source": [
    "X, y = createDataSet()\n",
    "result = classify([2.0,3.0],X,y,3)\n",
    "print(\"결과는 {} 영화다.\".format(result[0][0]))"
   ]
  },
  {
   "cell_type": "code",
   "execution_count": 183,
   "metadata": {},
   "outputs": [
    {
     "data": {
      "text/plain": [
       "array([[0, 1, 0, 1, 0, 1],\n",
       "       [2, 3, 2, 3, 2, 3],\n",
       "       [0, 1, 0, 1, 0, 1],\n",
       "       [2, 3, 2, 3, 2, 3]])"
      ]
     },
     "execution_count": 183,
     "metadata": {},
     "output_type": "execute_result"
    }
   ],
   "source": [
    "np.tile([2.0,3.0],(4,1))\n",
    "\n",
    "A=1\n",
    "B=np.array([0,1])\n",
    "C=np.array([[0,1],[2,3]])\n",
    "\n",
    "np.tile(A,3)\n",
    "np.tile(B,3)\n",
    "np.tile(C,3)\n",
    "\n",
    "np.tile(A,(2,3))\n",
    "np.tile(B,(2,3))\n",
    "np.tile(C,(2,3))\n",
    "\n"
   ]
  }
 ],
 "metadata": {
  "kernelspec": {
   "display_name": "Python 3",
   "language": "python",
   "name": "python3"
  },
  "language_info": {
   "codemirror_mode": {
    "name": "ipython",
    "version": 3
   },
   "file_extension": ".py",
   "mimetype": "text/x-python",
   "name": "python",
   "nbconvert_exporter": "python",
   "pygments_lexer": "ipython3",
   "version": "3.8.3"
  }
 },
 "nbformat": 4,
 "nbformat_minor": 4
}
